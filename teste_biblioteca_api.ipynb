{
 "cells": [
  {
   "cell_type": "code",
   "execution_count": 1,
   "metadata": {},
   "outputs": [],
   "source": [
    "from biblioteca_api import APIClient"
   ]
  },
  {
   "cell_type": "code",
   "execution_count": 2,
   "metadata": {},
   "outputs": [],
   "source": [
    "client = APIClient(base_url=\"http://localhost:8000\", api_token=\"123456\")"
   ]
  },
  {
   "cell_type": "code",
   "execution_count": 3,
   "metadata": {},
   "outputs": [
    {
     "data": {
      "text/plain": [
       "'Deu certo'"
      ]
     },
     "execution_count": 3,
     "metadata": {},
     "output_type": "execute_result"
    }
   ],
   "source": [
    "client.teste()"
   ]
  },
  {
   "cell_type": "code",
   "execution_count": 4,
   "metadata": {},
   "outputs": [
    {
     "data": {
      "text/plain": [
       "60"
      ]
     },
     "execution_count": 4,
     "metadata": {},
     "output_type": "execute_result"
    }
   ],
   "source": [
    "client.soma3(50, 10)"
   ]
  },
  {
   "cell_type": "markdown",
   "metadata": {},
   "source": [
    "client = APIClient(base_url=\"http://seu-servidor.com\", api_token=123456)\n",
    "\n",
    "# Teste de conexão\n",
    "print(client.teste())\n",
    "\n",
    "# Soma dois números (passando na URL)\n",
    "print(client.soma(10, 5))\n",
    "\n",
    "# Soma dois números (passando como parâmetros de query)\n",
    "print(client.soma2(10, 5))\n",
    "\n",
    "# Soma dois números (passando no corpo da requisição)\n",
    "print(client.soma3(10, 5))\n",
    "\n",
    "# Realiza uma operação matemática específica\n",
    "print(client.operacao(\"multiplicacao\", 10, 5))\n",
    "\n",
    "# Gera uma história com um tema específico\n",
    "print(client.gerar_historia(\"aventura medieval\"))"
   ]
  }
 ],
 "metadata": {
  "kernelspec": {
   "display_name": "venv",
   "language": "python",
   "name": "python3"
  },
  "language_info": {
   "codemirror_mode": {
    "name": "ipython",
    "version": 3
   },
   "file_extension": ".py",
   "mimetype": "text/x-python",
   "name": "python",
   "nbconvert_exporter": "python",
   "pygments_lexer": "ipython3",
   "version": "3.12.7"
  }
 },
 "nbformat": 4,
 "nbformat_minor": 2
}
